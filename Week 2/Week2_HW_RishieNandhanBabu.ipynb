{
 "cells": [
  {
   "cell_type": "code",
   "execution_count": 1,
   "id": "b6b6a4f6-1bb5-4463-8ecb-d4324b60ac2e",
   "metadata": {},
   "outputs": [],
   "source": [
    "import numpy as np\n",
    "import pandas as pd"
   ]
  },
  {
   "cell_type": "code",
   "execution_count": 3,
   "id": "a89a0910-0e96-4ef8-8243-04fce0779994",
   "metadata": {},
   "outputs": [
    {
     "name": "stdout",
     "output_type": "stream",
     "text": [
      "Stacked Vertically:\n",
      " [[1 2]\n",
      " [3 4]\n",
      " [5 6]\n",
      " [7 8]]\n",
      "Stacked Horizontally:\n",
      " [[1 2 5 6]\n",
      " [3 4 7 8]]\n"
     ]
    }
   ],
   "source": [
    "# 1. Define two custom numpy arrays, say A and B. Generate two new numpy arrays by stacking A and B vertically and horizontally.\n",
    "A = np.array([[1, 2], [3, 4]])\n",
    "B = np.array([[5, 6], [7, 8]])\n",
    "\n",
    "# Stack A and B vertically\n",
    "stacked_vertically = np.vstack((A, B))\n",
    "print(\"Stacked Vertically:\\n\", stacked_vertically)\n",
    "\n",
    "# Stack A and B horizontally\n",
    "stacked_horizontally = np.hstack((A, B))\n",
    "print(\"Stacked Horizontally:\\n\", stacked_horizontally)"
   ]
  },
  {
   "cell_type": "code",
   "execution_count": 4,
   "id": "5e87074c-b2d1-44d8-9222-32e8100d2f15",
   "metadata": {},
   "outputs": [
    {
     "name": "stdout",
     "output_type": "stream",
     "text": [
      "Common elements between A and B: []\n"
     ]
    }
   ],
   "source": [
    "# 2. Find common elements between A and B.\n",
    "common_elements = np.intersect1d(A, B)\n",
    "print(\"Common elements between A and B:\", common_elements)"
   ]
  },
  {
   "cell_type": "code",
   "execution_count": 5,
   "id": "cf853302-6f93-4ed8-819b-776ee97bd9ef",
   "metadata": {},
   "outputs": [
    {
     "name": "stdout",
     "output_type": "stream",
     "text": [
      "Numbers from A between 5 and 10: [ 5  8 10  7]\n"
     ]
    }
   ],
   "source": [
    "# 3. Extract all numbers from A which are within a specific range, e.g., between 5 and 10.\n",
    "A = np.array([[3, 5, 8], [10, 1, 7]])\n",
    "filtered_A = A[(A >= 5) & (A <= 10)]\n",
    "print(\"Numbers from A between 5 and 10:\", filtered_A)"
   ]
  },
  {
   "cell_type": "code",
   "execution_count": 6,
   "id": "9157ba36-93d0-49cb-a7a0-75a56932951c",
   "metadata": {},
   "outputs": [
    {
     "name": "stdout",
     "output_type": "stream",
     "text": [
      "Filtered iris_2d rows:\n",
      " [[4.8 3.4 1.6 0.2]\n",
      " [4.8 3.4 1.9 0.2]\n",
      " [4.7 3.2 1.6 0.2]\n",
      " [4.8 3.1 1.6 0.2]\n",
      " [4.9 2.4 3.3 1. ]\n",
      " [4.9 2.5 4.5 1.7]]\n"
     ]
    }
   ],
   "source": [
    "# 4. Filter the rows of iris_2d that has petallength (3rd column) > 1.5 and sepallength (1st column) < 5.0\n",
    "url = 'https://archive.ics.uci.edu/ml/machine-learning-databases/iris/iris.data'\n",
    "iris_2d = np.genfromtxt(url, delimiter=',', dtype='float', usecols=[0, 1, 2, 3])\n",
    "filtered_iris_2d = iris_2d[(iris_2d[:, 2] > 1.5) & (iris_2d[:, 0] < 5.0)]\n",
    "print(\"Filtered iris_2d rows:\\n\", filtered_iris_2d)"
   ]
  },
  {
   "cell_type": "code",
   "execution_count": 7,
   "id": "78cfc664-016c-4520-8a64-92a364b8f4cc",
   "metadata": {},
   "outputs": [
    {
     "name": "stdout",
     "output_type": "stream",
     "text": [
      "Filtered rows (every 20th row):\n",
      "    Manufacturer    Model     Type\n",
      "0         Acura  Integra    Small\n",
      "20     Chrysler  LeBaron  Compact\n",
      "40        Honda  Prelude   Sporty\n",
      "60      Mercury   Cougar  Midsize\n",
      "80       Subaru   Loyale    Small\n"
     ]
    }
   ],
   "source": [
    "# 5. From df filter the 'Manufacturer', 'Model', and 'Type' for every 20th row starting from 1st (row 0).\n",
    "df = pd.read_csv('https://raw.githubusercontent.com/selva86/datasets/master/Cars93_miss.csv')\n",
    "filtered_df = df.loc[::20, ['Manufacturer', 'Model', 'Type']]\n",
    "print(\"Filtered rows (every 20th row):\\n\", filtered_df)"
   ]
  },
  {
   "cell_type": "code",
   "execution_count": 8,
   "id": "6889c1e0-b21f-4716-a5d8-27ad5f4ffeab",
   "metadata": {},
   "outputs": [
    {
     "name": "stdout",
     "output_type": "stream",
     "text": [
      "DataFrame after filling missing Min.Price and Max.Price values:\n",
      "    Min.Price  Max.Price\n",
      "0  12.900000  18.800000\n",
      "1  29.200000  38.700000\n",
      "2  25.900000  32.300000\n",
      "3  17.118605  44.600000\n",
      "4  17.118605  21.459091\n"
     ]
    }
   ],
   "source": [
    "# 6. Replace missing values in Min.Price and Max.Price columns with their respective mean.\n",
    "df['Min.Price'].fillna(df['Min.Price'].mean(), inplace=True)\n",
    "df['Max.Price'].fillna(df['Max.Price'].mean(), inplace=True)\n",
    "print(\"DataFrame after filling missing Min.Price and Max.Price values:\\n\", df[['Min.Price', 'Max.Price']].head())"
   ]
  },
  {
   "cell_type": "code",
   "execution_count": 9,
   "id": "c9ce0bf8-848e-4105-8c06-2c9e40662fd7",
   "metadata": {},
   "outputs": [
    {
     "name": "stdout",
     "output_type": "stream",
     "text": [
      "Rows with sum > 100:\n",
      "      0   1   2   3\n",
      "4   28  19  25  35\n",
      "6   38  13  34  35\n",
      "8   24  26  22  32\n",
      "13  39  16  23  30\n"
     ]
    }
   ],
   "source": [
    "# 7. How to get the rows of a dataframe with row sum > 100?\n",
    "df_random = pd.DataFrame(np.random.randint(10, 40, 60).reshape(-1, 4))\n",
    "rows_sum_gt_100 = df_random[df_random.sum(axis=1) > 100]\n",
    "print(\"Rows with sum > 100:\\n\", rows_sum_gt_100)\n"
   ]
  },
  {
   "cell_type": "code",
   "execution_count": null,
   "id": "c4b4762d-784c-4069-92d8-eb83aa91f7bc",
   "metadata": {},
   "outputs": [],
   "source": []
  }
 ],
 "metadata": {
  "kernelspec": {
   "display_name": "Python 3 (ipykernel)",
   "language": "python",
   "name": "python3"
  },
  "language_info": {
   "codemirror_mode": {
    "name": "ipython",
    "version": 3
   },
   "file_extension": ".py",
   "mimetype": "text/x-python",
   "name": "python",
   "nbconvert_exporter": "python",
   "pygments_lexer": "ipython3",
   "version": "3.8.18"
  }
 },
 "nbformat": 4,
 "nbformat_minor": 5
}
